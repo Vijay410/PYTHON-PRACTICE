{
 "cells": [
  {
   "cell_type": "markdown",
   "id": "a12ef6c1-9b23-4013-8b5b-e68729eeef40",
   "metadata": {},
   "source": [
    "# Python Lists"
   ]
  },
  {
   "cell_type": "markdown",
   "id": "770ce4d6-f841-46ea-9cc4-48986a4f90c5",
   "metadata": {},
   "source": [
    "1. Python lists are a fundamental data structure in Python used to store collections of items. \n",
    "2. Lists are ordered, mutable (changeable), and can contain elements of different data types. \n",
    "3. You can create a list by enclosing elements in square brackets [], separated by commas.\n"
   ]
  },
  {
   "cell_type": "code",
   "execution_count": 2,
   "id": "6becc983-7dc1-463e-872a-286ecd37abcf",
   "metadata": {},
   "outputs": [
    {
     "name": "stdout",
     "output_type": "stream",
     "text": [
      "1\n"
     ]
    }
   ],
   "source": [
    "#create list\n",
    "my_list = [1, 2, 3, 4, 5]\n",
    "#Lists can contain elements of different types:\n",
    "mixed_list = [1, 'two', 3.0, True]\n",
    "#You can access elements in a list using indexing, with the first element having an index of 0:\n",
    "print(my_list[0])"
   ]
  },
  {
   "cell_type": "code",
   "execution_count": 3,
   "id": "4cf28d6a-2399-47b9-8b9c-ab4fab4d0d9a",
   "metadata": {},
   "outputs": [
    {
     "name": "stdout",
     "output_type": "stream",
     "text": [
      "[100, 2, 3, 4, 5]\n"
     ]
    }
   ],
   "source": [
    "#Modify the list\n",
    "my_list[0] = 100\n",
    "print(my_list)  #\n"
   ]
  },
  {
   "cell_type": "code",
   "execution_count": 4,
   "id": "932a73cd-651d-4717-ad40-b98c14f7bf63",
   "metadata": {},
   "outputs": [
    {
     "name": "stdout",
     "output_type": "stream",
     "text": [
      "[100, 2, 3, 4, 5, 6]\n",
      "[100, 50, 2, 3, 4, 5, 6]\n",
      "[100, 50, 2, 4, 5, 6]\n",
      "6\n",
      "[100, 50, 2, 4, 5]\n"
     ]
    }
   ],
   "source": [
    "#Other list methods\n",
    "my_list.append(6)  # Adds 6 to the end of the list\n",
    "print(my_list)  # Outputs: [100, 2, 3, 4, 5, 6]\n",
    "\n",
    "my_list.insert(1, 50)  # Inserts 50 at index 1\n",
    "print(my_list)  # Outputs: [100, 50, 2, 3, 4, 5, 6]\n",
    "\n",
    "my_list.remove(3)  # Removes the first occurrence of 3\n",
    "print(my_list)  # Outputs: [100, 50, 2, 4, 5, 6]\n",
    "\n",
    "popped_element = my_list.pop()  # Removes and returns the last element\n",
    "print(popped_element)  # Outputs: 6\n",
    "print(my_list)  # Outputs: [100, 50, 2, 4, 5]\n"
   ]
  },
  {
   "cell_type": "markdown",
   "id": "c6bdfb16-135c-480b-add2-4c190d45348c",
   "metadata": {},
   "source": [
    "#  Basic List Programs"
   ]
  },
  {
   "cell_type": "raw",
   "id": "593e41e7-ce36-4547-8810-10752473a873",
   "metadata": {},
   "source": [
    "1 . Given a list, write a Python program to swap first and last element of the list.\n",
    "\n",
    "Input : [12, 35, 9, 56, 24]\n",
    "Output : [24, 35, 9, 56, 12]\n",
    "\n",
    "Input : [1, 2, 3]\n",
    "Output : [3, 2, 1]"
   ]
  },
  {
   "cell_type": "code",
   "execution_count": 9,
   "id": "54216ae0-d63c-4eca-8725-d3766ec3bf3b",
   "metadata": {},
   "outputs": [
    {
     "name": "stdout",
     "output_type": "stream",
     "text": [
      "[24, 35, 9, 56, 12]\n"
     ]
    }
   ],
   "source": [
    "#We can swap using simple method without using 3rd variable\n",
    "#create function\n",
    "def swap_list(N):\n",
    "    N[0],N[-1] = N[-1], N[0]\n",
    "    return N\n",
    "N = [12, 35, 9, 56, 24]\n",
    "print(swap_list(N))"
   ]
  },
  {
   "cell_type": "raw",
   "id": "104ea63e-0cc2-4831-bf1a-7191bfff4bc2",
   "metadata": {},
   "source": [
    "2. Given a list in Python and provided the positions of the elements, write a program to swap the two elements in the list. \n",
    "\n",
    "Input : List = [23, 65, 19, 90], pos1 = 1, pos2 = 3\n",
    "Output : [19, 65, 23, 90]\n",
    "\n",
    "Input : List = [1, 2, 3, 4, 5], pos1 = 2, pos2 = 5\n",
    "Output : [1, 5, 3, 4, 2]"
   ]
  },
  {
   "cell_type": "code",
   "execution_count": 19,
   "id": "15eba989-1afa-4ad3-8326-a2c54a8d82fd",
   "metadata": {},
   "outputs": [
    {
     "name": "stdout",
     "output_type": "stream",
     "text": [
      "Original List: [23, 65, 19, 90]\n",
      "Positions to swap: 1 and 3\n",
      "Output: [19, 65, 23, 90]\n",
      "\n",
      "Original List: [1, 2, 3, 4, 5]\n",
      "Positions to swap: 2 and 5\n",
      "Output: [1, 5, 3, 4, 2]\n"
     ]
    }
   ],
   "source": [
    "def swap_elements(lst, pos1, pos2):\n",
    "    # Check if positions are within the bounds of the list\n",
    "    if pos1 >= len(lst) or pos2 >= len(lst):\n",
    "        print(\"Error: Positions out of range.\")\n",
    "        return lst\n",
    "\n",
    "    # Swap the elements at the specified positions\n",
    "    lst[pos1], lst[pos2] = lst[pos2], lst[pos1]\n",
    "    return lst\n",
    "\n",
    "# Example usage\n",
    "list1 = [23, 65, 19, 90]\n",
    "pos1_1, pos2_1 = 1, 3\n",
    "print(\"Original List:\", list1)\n",
    "print(\"Positions to swap:\", pos1_1, \"and\", pos2_1)\n",
    "print(\"Output:\", swap_elements(list1, pos1_1-1, pos2_1-1))\n",
    "\n",
    "list2 = [1, 2, 3, 4, 5]\n",
    "pos1_2, pos2_2 = 2, 5\n",
    "print(\"\\nOriginal List:\", list2)\n",
    "print(\"Positions to swap:\", pos1_2, \"and\", pos2_2)\n",
    "print(\"Output:\", swap_elements(list2, pos1_2-1, pos2_2-1))\n"
   ]
  },
  {
   "cell_type": "code",
   "execution_count": null,
   "id": "cdfbb7cd-2b85-4a1a-8ff7-d0f14b2ccd17",
   "metadata": {},
   "outputs": [],
   "source": []
  },
  {
   "cell_type": "raw",
   "id": "1bfca381-ba07-4ec5-96c4-4e78d5b8e2af",
   "metadata": {},
   "source": [
    "3 .Given two numbers, write a Python code to find the Maximum of these two numbers."
   ]
  },
  {
   "cell_type": "raw",
   "id": "fb9af05a-9a9b-4365-8a3d-36f61df34d2a",
   "metadata": {},
   "source": [
    "Input: a = 2, b = 4\n",
    "Output: 4\n",
    "\n",
    "Input: a = -1, b = -4\n",
    "Output: -1"
   ]
  },
  {
   "cell_type": "code",
   "execution_count": 30,
   "id": "b2c58b1c-926f-42b6-be60-b88fcdfeb06c",
   "metadata": {},
   "outputs": [
    {
     "name": "stdin",
     "output_type": "stream",
     "text": [
      "Enter the value of a:  5\n",
      "Enter the value of b:  5\n"
     ]
    },
    {
     "name": "stdout",
     "output_type": "stream",
     "text": [
      "The maximum number is : 5\n"
     ]
    }
   ],
   "source": [
    "def max_num(a, b):\n",
    "    a = input(\"Enter the value of a: \")\n",
    "    b = input(\"Enter the value of b: \")\n",
    "\n",
    "    while not (a.isdigit() and b.isdigit()):\n",
    "        print(\"Invalid input. Please enter integers only.\")\n",
    "        a = input(\"Enter the value of a: \")\n",
    "        b = input(\"Enter the value of b: \")\n",
    "        a = int(a)\n",
    "        b = int(b)\n",
    "\n",
    "    return a if a > b else b\n",
    "print(f\"The maximum number is :\", max_num(a, b))\n"
   ]
  },
  {
   "cell_type": "code",
   "execution_count": 31,
   "id": "c6e0b64f-ff7e-40f1-9d72-f32c6219bcd6",
   "metadata": {},
   "outputs": [
    {
     "name": "stdout",
     "output_type": "stream",
     "text": [
      "[15, 14, 13, 12, 11, 10]\n"
     ]
    }
   ],
   "source": [
    "#reverse the list\n",
    "\n",
    "# Reversing a list using slicing technique\n",
    "def Reverse(lst):\n",
    "   new_lst = lst[::-1]\n",
    "   return new_lst\n",
    " \n",
    " \n",
    "lst = [10, 11, 12, 13, 14, 15]\n",
    "print(Reverse(lst))"
   ]
  },
  {
   "cell_type": "code",
   "execution_count": 38,
   "id": "e93755fc-7211-4706-a36f-42f47c1dafaa",
   "metadata": {},
   "outputs": [
    {
     "data": {
      "text/plain": [
       "(125, 20.83)"
      ]
     },
     "execution_count": 38,
     "metadata": {},
     "output_type": "execute_result"
    }
   ],
   "source": [
    "#Find the sum of all the elements in given list\n",
    "List = [15, 14, 63, 12, 11, 10]\n",
    "n = len(List)\n",
    "def sum_list(List):\n",
    "    res = 0\n",
    "    if len(List) > 0:\n",
    "        for i in List:\n",
    "            res += i\n",
    "    avg = round((res/n),2)\n",
    "    return res,avg\n",
    "sum_list(List)"
   ]
  },
  {
   "cell_type": "code",
   "execution_count": 41,
   "id": "a00793b4-3621-4468-a560-e5a610d679dd",
   "metadata": {},
   "outputs": [
    {
     "data": {
      "text/plain": [
       "24"
      ]
     },
     "execution_count": 41,
     "metadata": {},
     "output_type": "execute_result"
    }
   ],
   "source": [
    "#Find the multiply all the elements in given list\n",
    "List = [1, 2, 3, 4]\n",
    "n = len(List)\n",
    "def mul_list(List):\n",
    "    res = 1\n",
    "    for i in List:\n",
    "        if i == 0:\n",
    "            continue\n",
    "        if i < 0:\n",
    "            \n",
    "            break\n",
    "        res *= i\n",
    "    return res\n",
    "mul_list(List)"
   ]
  },
  {
   "cell_type": "code",
   "execution_count": 46,
   "id": "463eed54-6351-4f7d-a6fe-f34788efeb81",
   "metadata": {},
   "outputs": [
    {
     "name": "stdout",
     "output_type": "stream",
     "text": [
      "Second largest element is: 45\n"
     ]
    }
   ],
   "source": [
    "#Find the second largest num\n",
    "list1 = [10, 20, 20, 4, 45, 45, 45, 99, 99]\n",
    " \n",
    "# Removing duplicates from the list\n",
    "list2 = list(set(list1))\n",
    "# Sorting the  list\n",
    "list2.sort()\n",
    " \n",
    "# Printing the second last element\n",
    "print(\"Second largest element is:\", list2[-2])"
   ]
  },
  {
   "cell_type": "code",
   "execution_count": 49,
   "id": "5fb3be27-e9be-4aa4-a436-3962bc1d7196",
   "metadata": {},
   "outputs": [
    {
     "name": "stdout",
     "output_type": "stream",
     "text": [
      "10 4 66 "
     ]
    }
   ],
   "source": [
    "\n",
    "\n",
    "# Python program to print Even Numbers in a List\n",
    " \n",
    "# list of numbers\n",
    "list1 = [10, 21, 4, 45, 66, 93]\n",
    " \n",
    "# iterating each number in list\n",
    "for num in list1:\n",
    " \n",
    "    # checking condition\n",
    "    if num % 2 == 0:\n",
    "        print(num, end=\" \")"
   ]
  },
  {
   "cell_type": "markdown",
   "id": "79e48743-3fe9-4c44-b5c2-8ebaae9eacea",
   "metadata": {},
   "source": [
    "# Medium Level Exercise"
   ]
  },
  {
   "cell_type": "code",
   "execution_count": 3,
   "id": "b374517b-fe09-497c-8a84-24147d645421",
   "metadata": {},
   "outputs": [
    {
     "name": "stdout",
     "output_type": "stream",
     "text": [
      "List after empty list removal : [5, 6, 3, 9]\n"
     ]
    }
   ],
   "source": [
    "#1 Python3 code to Demonstrate Remove empty List\n",
    "# from List using list comprehension\n",
    "\n",
    "test_list = [5, 6, [], 3, [], [], 9]\n",
    "\n",
    "res = [ele for ele in test_list if ele != []]\n",
    "print(\"List after empty list removal : \" + str(res))\n"
   ]
  },
  {
   "cell_type": "code",
   "execution_count": 4,
   "id": "f10430a0-7ea8-4909-9bad-f8ee0186de93",
   "metadata": {},
   "outputs": [
    {
     "name": "stdout",
     "output_type": "stream",
     "text": [
      "List after empty list removal : [5, 6, 3, 9]\n"
     ]
    }
   ],
   "source": [
    "test_list = [5, 6, [], 3, [], [], 9]\n",
    "while [] in test_list:\n",
    "    test_list.remove([])\n",
    "print(\"List after empty list removal : \" + str(test_list))\n"
   ]
  },
  {
   "cell_type": "code",
   "execution_count": 7,
   "id": "21e8f8cb-da86-4f34-a92a-71fd88a4ed48",
   "metadata": {},
   "outputs": [
    {
     "data": {
      "text/plain": [
       "{'Vijay': 27, 'Rolf': 38, 'Roman': 32, 'Rona': 28}"
      ]
     },
     "execution_count": 7,
     "metadata": {},
     "output_type": "execute_result"
    }
   ],
   "source": [
    "#2. List to Docntionary\n",
    "my_list = ['Vijay', 27, 'Rolf', 38, 'Roman', 32, 'Rona', 28]\n",
    "my_dict = {my_list[i]:my_list[i+1] for i in range(0,len(my_list),2)}\n",
    "my_dict"
   ]
  },
  {
   "cell_type": "code",
   "execution_count": 10,
   "id": "458b2c49-22be-4a60-a923-341de857f073",
   "metadata": {},
   "outputs": [
    {
     "name": "stdout",
     "output_type": "stream",
     "text": [
      "{('a', 'b'): (1, 2), ('c', 'd'): (3, 4), ('e', 'f'): (5, 6)}\n"
     ]
    }
   ],
   "source": [
    "#Convert List Of List to Dic\n",
    "# Given list of lists\n",
    "test_list = [['a', 'b', 1, 2], ['c', 'd', 3, 4], ['e', 'f', 5, 6]]\n",
    "# Convert list of lists to dictionary\n",
    "result_dict = {(item[0], item[1]): tuple(item[2:]) for item in test_list}\n",
    "# Print the resulting dictionary\n",
    "print(result_dict)\n"
   ]
  },
  {
   "cell_type": "code",
   "execution_count": 11,
   "id": "a129d796-6ef1-420f-8077-b1204a485f99",
   "metadata": {},
   "outputs": [
    {
     "name": "stdout",
     "output_type": "stream",
     "text": [
      "No of unique items in the list are: 5\n"
     ]
    }
   ],
   "source": [
    "#Count unique elements\n",
    "input_list = [1, 2, 2, 5, 8, 4, 4, 8]\n",
    " \n",
    "# converting our list to set\n",
    "new_set = set(input_list)\n",
    "print(\"No of unique items in the list are:\", len(new_set))"
   ]
  },
  {
   "cell_type": "code",
   "execution_count": 15,
   "id": "ba15bd2d-07de-48da-9b0e-fbe415bfb00e",
   "metadata": {},
   "outputs": [
    {
     "name": "stdout",
     "output_type": "stream",
     "text": [
      "Does list contain all elements in range : {('a', 'b'): (1, 2), ('c', 'd'): (3, 4), ('e', 'f'): (5, 6)}\n"
     ]
    }
   ],
   "source": [
    "# Test if List contains elements in Range\n",
    "# using loop\n",
    " \n",
    "# Initializing loop \n",
    "test_list = [4, 5, 6, 7, 3, 9]\n",
    "low, high = 3, 10\n",
    "result = True\n",
    "for ele in test_list:\n",
    "    if ele < low or ele >= high:\n",
    "        result =  False\n",
    "        break\n",
    "print (\"Does list contain all elements in range : \" + str(res))\n"
   ]
  },
  {
   "cell_type": "code",
   "execution_count": 16,
   "id": "3d3746e5-7576-4ad5-b774-3020c432b19e",
   "metadata": {},
   "outputs": [
    {
     "name": "stdout",
     "output_type": "stream",
     "text": [
      "5\n"
     ]
    }
   ],
   "source": [
    "#Our task is to print the element which occurs 3 consecutive times in a Python list. \n",
    "# creating the array\n",
    "arr = [4, 5, 5, 5, 3, 8]\n",
    " \n",
    "# size of the list\n",
    "size = len(arr)\n",
    "\n",
    "for i in range(size - 2):\n",
    "    if arr[i] == arr[i + 1] and arr[i + 1] == arr[i + 2]:\n",
    "        print(arr[i])"
   ]
  },
  {
   "cell_type": "code",
   "execution_count": 20,
   "id": "1f31406f-aa87-4fde-86c4-ba165bb204db",
   "metadata": {},
   "outputs": [
    {
     "name": "stdout",
     "output_type": "stream",
     "text": [
      "No element occurs 3 consecutive times\n"
     ]
    }
   ],
   "source": [
    "#Our task is to print the element which occurs 3 consecutive times in a Python list. \n",
    "arr = [1,3,3,3,5,6]\n",
    "size = len(arr)\n",
    "def find_triplet(arr):\n",
    "    for i in range(size-2):\n",
    "        #check element with next element com pare\n",
    "        if arr[i] == arr[i+1] == arr[i+2]:\n",
    "            return arr[i]\n",
    "        return None\n",
    "        \n",
    "\n",
    "result = find_triplet(arr)\n",
    "if result:\n",
    "    print(result)\n",
    "else:\n",
    "    print(\"No element occurs 3 consecutive times\")    "
   ]
  },
  {
   "cell_type": "raw",
   "id": "782e8315-8db1-46b1-8e4e-f2b920600ef7",
   "metadata": {},
   "source": [
    "#Given an array arr[] of N positive integers. The task is to find the maximum for every adjacent pair in the array.\n",
    "'''Approach:\n",
    "\n",
    "1. Steps to solve the problem\n",
    "2. terate through the array from the first element to the second last element.\n",
    "3. For each pair of adjacent elements, find the maximum and append it to the result list.\n",
    "3. Return the result list.\n",
    "\n"
   ]
  },
  {
   "cell_type": "code",
   "execution_count": 30,
   "id": "06bd0c4f-a75b-433f-a1ca-97d53b6b4ba2",
   "metadata": {},
   "outputs": [
    {
     "name": "stdout",
     "output_type": "stream",
     "text": [
      "0\n",
      "3\n",
      "1\n",
      "3\n",
      "2\n",
      "5\n",
      "3\n",
      "5\n",
      "[3, 3, 5, 5]\n"
     ]
    }
   ],
   "source": [
    "arr = [1, 3, 2, 5, 4]\n",
    "def max_Adj_pairs(arr):\n",
    "    result = []\n",
    "    for i in range(len(arr) - 1):\n",
    "        print(i)\n",
    "        max_value = max(arr[i], arr[i + 1])\n",
    "        print(max_value)\n",
    "        result.append(max_value)\n",
    "    return result\n",
    "\n",
    "result = max_Adj_pairs(arr)\n",
    "print(result)"
   ]
  },
  {
   "cell_type": "code",
   "execution_count": 33,
   "id": "75d4705e-0d26-4f66-b4c6-6f6172136876",
   "metadata": {},
   "outputs": [],
   "source": [
    "city = "
   ]
  },
  {
   "cell_type": "code",
   "execution_count": 34,
   "id": "1b4e7702-cd2f-4910-8a0e-dd96e9caac44",
   "metadata": {},
   "outputs": [
    {
     "data": {
      "text/plain": [
       "['skeeg', 'rof', 'skeeg', 'si', 'tseb']"
      ]
     },
     "execution_count": 34,
     "metadata": {},
     "output_type": "execute_result"
    }
   ],
   "source": [
    "List"
   ]
  },
  {
   "cell_type": "markdown",
   "id": "3dd13fbe-45da-4e97-9b35-c0d7d406ced8",
   "metadata": {},
   "source": [
    "# Python String problems"
   ]
  },
  {
   "cell_type": "code",
   "execution_count": 86,
   "id": "5330a29f-2526-4d04-a28e-ef487314ef5e",
   "metadata": {},
   "outputs": [
    {
     "name": "stdout",
     "output_type": "stream",
     "text": [
      "0\n",
      "1\n"
     ]
    }
   ],
   "source": [
    "def find_character_position(test_list, K):\n",
    "    cumulative_length = 0\n",
    "    for word in test_list:\n",
    "        if cumulative_length + len(word) > K:\n",
    "            return K - cumulative_length\n",
    "        cumulative_length += len(word)\n",
    "    return -1  # In case K is out of bounds\n",
    "\n",
    "# Test cases\n",
    "test_list1 = [\"geekforgeeks\", \"is\", \"best\", \"for\", \"geeks\"]\n",
    "K1 = 21\n",
    "print(find_character_position(test_list1, K1))  # Output: 0\n",
    "\n",
    "test_list2 = [\"geekforgeeks\", \"is\", \"best\", \"for\", \"geeks\"]\n",
    "K2 = 15\n",
    "print(find_character_position(test_list2, K2))  # Output: 1\n"
   ]
  },
  {
   "cell_type": "code",
   "execution_count": 89,
   "id": "19070f17-40ce-491d-a9e3-dc2814054bf7",
   "metadata": {},
   "outputs": [
    {
     "data": {
      "text/plain": [
       "0"
      ]
     },
     "execution_count": 89,
     "metadata": {},
     "output_type": "execute_result"
    }
   ],
   "source": [
    "def test():\n",
    "    K = 21\n",
    "    test_list1 = [\"geekforgeeks\", \"is\", \"best\", \"for\", \"geeks\"]\n",
    "    cumulative_length = 0\n",
    "    for word in test_list1:\n",
    "        if cumulative_length + len(word) > K:\n",
    "            return K - cumulative_length\n",
    "        cumulative_length += len(word)\n",
    "    return -1\n",
    "test()"
   ]
  },
  {
   "cell_type": "code",
   "execution_count": 17,
   "id": "60af63f4-d73c-436a-9a5b-67f71c3a8ecf",
   "metadata": {},
   "outputs": [
    {
     "data": {
      "text/plain": [
       "2"
      ]
     },
     "execution_count": 17,
     "metadata": {},
     "output_type": "execute_result"
    }
   ],
   "source": [
    "def factorial_trailing_zero(n):\n",
    "    fact = n\n",
    "    while n > 1:\n",
    "        fact *= n-1\n",
    "        #decrement the n \n",
    "        n -= 1\n",
    "    result =  0\n",
    "    for i in str(fact)[::-1]:\n",
    "        if i == \"0\":\n",
    "            result += 1\n",
    "        else:\n",
    "            break\n",
    "    \n",
    "    return result\n",
    "\n",
    "        \n",
    "        \n",
    "factorial_trailing_zero(12)"
   ]
  },
  {
   "cell_type": "code",
   "execution_count": null,
   "id": "fc94fba0-7705-44c4-8072-137519563e92",
   "metadata": {},
   "outputs": [],
   "source": []
  }
 ],
 "metadata": {
  "kernelspec": {
   "display_name": "Python 3 (ipykernel)",
   "language": "python",
   "name": "python3"
  },
  "language_info": {
   "codemirror_mode": {
    "name": "ipython",
    "version": 3
   },
   "file_extension": ".py",
   "mimetype": "text/x-python",
   "name": "python",
   "nbconvert_exporter": "python",
   "pygments_lexer": "ipython3",
   "version": "3.10.12"
  }
 },
 "nbformat": 4,
 "nbformat_minor": 5
}
