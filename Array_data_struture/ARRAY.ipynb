{
 "cells": [
  {
   "cell_type": "markdown",
   "id": "2dda9a28-b004-4b26-a7a7-49ec26863d5e",
   "metadata": {},
   "source": [
    "# Arrays Data Structure in Python"
   ]
  },
  {
   "cell_type": "code",
   "execution_count": null,
   "id": "ed48c0cc-7aae-46b3-a0b0-80fc14c6d5f3",
   "metadata": {},
   "outputs": [],
   "source": []
  },
  {
   "cell_type": "code",
   "execution_count": 8,
   "id": "1a003a38-5fa2-46dc-be12-b9d840ba1d59",
   "metadata": {},
   "outputs": [
    {
     "name": "stdout",
     "output_type": "stream",
     "text": [
      "[1, 2, 10, 3, 4]\n"
     ]
    }
   ],
   "source": [
    "## Inserting value in mid of array at one position\n",
    "# I want insert value 10 at position 2\n",
    "\n",
    "# Inserting into Static array\n",
    "arr = [1, 2, 3, 4, 5]  # Initialize the list\n",
    "pos = 2               # Position to insert the new value\n",
    "value = 10            # Value to be inserted\n",
    "\n",
    "# Shift elements to the right from the specified position\n",
    "for i in range(len(arr) - 1, pos - 1, -1):  # Iterate backwards\n",
    "    arr[i] = arr[i - 1]  # Replace each element with the preceding one\n",
    "\n",
    "# After shifting elements, insert the new value at the desired position\n",
    "arr[pos] = value\n",
    "\n",
    "print(arr)\n"
   ]
  },
  {
   "cell_type": "code",
   "execution_count": 3,
   "id": "fa89c863-f76b-4301-9423-47221a064b95",
   "metadata": {},
   "outputs": [
    {
     "name": "stdout",
     "output_type": "stream",
     "text": [
      "1\n",
      "222222 5 4\n",
      "1\n",
      "222222 4 3\n",
      "1\n",
      "222222 3 2\n",
      "1\n",
      "222222 2 1\n",
      "[10, 1, 2, 3, 4]\n"
     ]
    }
   ],
   "source": [
    "## Inserting value in beggining of array at one position\n",
    "# I want insert value 10 at position 0, beggining\n",
    "\n",
    "#Inserting into Static array\n",
    "arr = [1, 2, 3, 4, 5] # Initialize the list\n",
    "pos = 2  # Position to insert the new value\n",
    "value = 10 # Value to be inserted\n",
    "\n",
    "# Shift elements to the right from the specified position\n",
    "for i in range(len(arr) - 1, 0, -1): # Iterate backwards\n",
    "    print(pos-1)\n",
    "    print('222222',arr[i],arr[i-1])\n",
    "    arr[i] = arr[i-1] # Replace each element with the preceding one\n",
    "\n",
    "# After shifting elements, insert the new value at the desired position\n",
    "\n",
    "# Insert the new value at the desired position\n",
    "arr[0] = value\n",
    "print(arr)"
   ]
  },
  {
   "cell_type": "code",
   "execution_count": 67,
   "id": "e8847117-b7c2-47a9-beb2-03048a82fe37",
   "metadata": {},
   "outputs": [],
   "source": [
    "A = [10,13,14,15]\n",
    "# for i in range(len(A)-1,-1):\n",
    "#     print(i)\n",
    "#     print(A[i])\n",
    "#     A[i] = A[i-1]\n",
    "A[3] = 5"
   ]
  },
  {
   "cell_type": "code",
   "execution_count": 66,
   "id": "77829ed6-6c70-4a72-88f8-6c502a56defb",
   "metadata": {},
   "outputs": [
    {
     "data": {
      "text/plain": [
       "[10, 13, 14, 15]"
      ]
     },
     "execution_count": 66,
     "metadata": {},
     "output_type": "execute_result"
    }
   ],
   "source": [
    "A"
   ]
  },
  {
   "cell_type": "code",
   "execution_count": 6,
   "id": "76c10105-de9f-4df2-9bf2-055a32ee308c",
   "metadata": {},
   "outputs": [
    {
     "data": {
      "text/plain": [
       "[1, 2, 3, 4, 10]"
      ]
     },
     "execution_count": 6,
     "metadata": {},
     "output_type": "execute_result"
    }
   ],
   "source": [
    "## Inserting value in last of array at one position\n",
    "# I want insert value 10 at position -1, last\n",
    "\n",
    "#Inserting into Static array\n",
    "arr = [1, 2, 3, 4, 5] # Initialize the list\n",
    "pos = 2  # Position to insert the new value\n",
    "value = 10 # Value to be inserted\n",
    "\n",
    "arr[-1] = value\n",
    "arr"
   ]
  },
  {
   "cell_type": "code",
   "execution_count": null,
   "id": "3c2cc76f-f1bd-43e5-80e4-f529c7d8f757",
   "metadata": {},
   "outputs": [],
   "source": []
  }
 ],
 "metadata": {
  "kernelspec": {
   "display_name": "Python 3 (ipykernel)",
   "language": "python",
   "name": "python3"
  },
  "language_info": {
   "codemirror_mode": {
    "name": "ipython",
    "version": 3
   },
   "file_extension": ".py",
   "mimetype": "text/x-python",
   "name": "python",
   "nbconvert_exporter": "python",
   "pygments_lexer": "ipython3",
   "version": "3.10.12"
  }
 },
 "nbformat": 4,
 "nbformat_minor": 5
}
